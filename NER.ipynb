{
 "cells": [
  {
   "cell_type": "code",
   "execution_count": 1,
   "id": "38dae15a",
   "metadata": {},
   "outputs": [],
   "source": [
    "import nltk\n",
    "from nltk.corpus import stopwords\n",
    "from nltk.tokenize import word_tokenize, sent_tokenize\n",
    "stop_words = set(stopwords.words('english'))"
   ]
  },
  {
   "cell_type": "code",
   "execution_count": 3,
   "id": "afcd1477",
   "metadata": {},
   "outputs": [
    {
     "name": "stderr",
     "output_type": "stream",
     "text": [
      "[nltk_data] Downloading package averaged_perceptron_tagger to\n",
      "[nltk_data]     /home/hp/nltk_data...\n",
      "[nltk_data]   Unzipping taggers/averaged_perceptron_tagger.zip.\n"
     ]
    },
    {
     "data": {
      "text/plain": [
       "True"
      ]
     },
     "execution_count": 3,
     "metadata": {},
     "output_type": "execute_result"
    }
   ],
   "source": [
    "nltk.download('averaged_perceptron_tagger')"
   ]
  },
  {
   "cell_type": "code",
   "execution_count": 8,
   "id": "ebb46527",
   "metadata": {},
   "outputs": [
    {
     "name": "stderr",
     "output_type": "stream",
     "text": [
      "[nltk_data] Downloading package maxent_ne_chunker to\n",
      "[nltk_data]     /home/hp/nltk_data...\n",
      "[nltk_data]   Unzipping chunkers/maxent_ne_chunker.zip.\n"
     ]
    },
    {
     "data": {
      "text/plain": [
       "True"
      ]
     },
     "execution_count": 8,
     "metadata": {},
     "output_type": "execute_result"
    }
   ],
   "source": [
    "nltk.download('maxent_ne_chunker')"
   ]
  },
  {
   "cell_type": "code",
   "execution_count": 13,
   "id": "2b9f8463",
   "metadata": {},
   "outputs": [
    {
     "name": "stderr",
     "output_type": "stream",
     "text": [
      "[nltk_data] Downloading package words to /home/hp/nltk_data...\n",
      "[nltk_data]   Unzipping corpora/words.zip.\n"
     ]
    },
    {
     "data": {
      "text/plain": [
       "True"
      ]
     },
     "execution_count": 13,
     "metadata": {},
     "output_type": "execute_result"
    }
   ],
   "source": [
    "nltk.download('words')"
   ]
  },
  {
   "cell_type": "code",
   "execution_count": 26,
   "id": "83f7997b",
   "metadata": {},
   "outputs": [
    {
     "name": "stderr",
     "output_type": "stream",
     "text": [
      "[nltk_data] Downloading package vader_lexicon to /home/hp/nltk_data...\n"
     ]
    },
    {
     "data": {
      "text/plain": [
       "True"
      ]
     },
     "execution_count": 26,
     "metadata": {},
     "output_type": "execute_result"
    }
   ],
   "source": [
    "nltk.download('vader_lexicon')"
   ]
  },
  {
   "cell_type": "code",
   "execution_count": 118,
   "id": "141b48bd",
   "metadata": {},
   "outputs": [],
   "source": [
    "def pos_tag(txt):\n",
    "    tokenized = sent_tokenize(txt)\n",
    "    tg = list()\n",
    "    for i in tokenized:\n",
    "\n",
    "        # Word tokenizers is used to find the words \n",
    "        # and punctuation in a string\n",
    "        wordsList = nltk.word_tokenize(i)\n",
    "\n",
    "        # removing stop words from wordList\n",
    "        wordsList = [w for w in wordsList if not w in stop_words] \n",
    "\n",
    "        #  Using a Tagger. Which is part-of-speech \n",
    "        # tagger or POS-tagger. \n",
    "        tagged = nltk.pos_tag(wordsList)\n",
    "        tg.extend(tagged)\n",
    "    return tg"
   ]
  },
  {
   "cell_type": "code",
   "execution_count": 119,
   "id": "2a3aba70",
   "metadata": {},
   "outputs": [
    {
     "data": {
      "text/plain": [
       "'(S (NE Solar/JJ) panel/NN stopped/VBD working/VBG)'"
      ]
     },
     "execution_count": 119,
     "metadata": {},
     "output_type": "execute_result"
    }
   ],
   "source": [
    "n = nltk.ne_chunk(tg, binary=True)\n",
    "str(n)"
   ]
  },
  {
   "cell_type": "code",
   "execution_count": 120,
   "id": "21fed011",
   "metadata": {},
   "outputs": [],
   "source": [
    "from nltk.sentiment import SentimentIntensityAnalyzer"
   ]
  },
  {
   "cell_type": "code",
   "execution_count": 194,
   "id": "94e32afd",
   "metadata": {},
   "outputs": [],
   "source": [
    "def sentiment_score(txt):\n",
    "    sia = SentimentIntensityAnalyzer()\n",
    "    return sia.polarity_scores(txt)"
   ]
  },
  {
   "cell_type": "code",
   "execution_count": 122,
   "id": "1215faab",
   "metadata": {},
   "outputs": [
    {
     "data": {
      "text/plain": [
       "{'neg': 0.0, 'neu': 0.0, 'pos': 1.0, 'compound': 0.4019}"
      ]
     },
     "execution_count": 122,
     "metadata": {},
     "output_type": "execute_result"
    }
   ],
   "source": []
  },
  {
   "cell_type": "code",
   "execution_count": 123,
   "id": "693d75ab",
   "metadata": {},
   "outputs": [],
   "source": [
    "from nltk.tokenize import word_tokenize"
   ]
  },
  {
   "cell_type": "code",
   "execution_count": 124,
   "id": "cea7d2cf",
   "metadata": {},
   "outputs": [],
   "source": [
    "def cosine(X, Y):\n",
    "    # tokenization\n",
    "    X_list = word_tokenize(X) \n",
    "    Y_list = word_tokenize(Y)\n",
    "\n",
    "    # sw contains the list of stopwords\n",
    "    sw = stopwords.words('english') \n",
    "    l1 =[];l2 =[]\n",
    "\n",
    "    # remove stop words from the string\n",
    "    X_set = {w for w in X_list if not w in sw} \n",
    "    Y_set = {w for w in Y_list if not w in sw}\n",
    "\n",
    "    # form a set containing keywords of both strings \n",
    "    rvector = X_set.union(Y_set) \n",
    "    for w in rvector:\n",
    "        if w in X_set: l1.append(1) # create a vector\n",
    "        else: l1.append(0)\n",
    "        if w in Y_set: l2.append(1)\n",
    "        else: l2.append(0)\n",
    "    c = 0\n",
    "\n",
    "    # cosine formula \n",
    "    for i in range(len(rvector)):\n",
    "            c+= l1[i]*l2[i]\n",
    "    cosine = c / float((sum(l1)*sum(l2))**0.5)\n",
    "    return cosine"
   ]
  },
  {
   "cell_type": "code",
   "execution_count": 179,
   "id": "6aabd55e",
   "metadata": {},
   "outputs": [
    {
     "data": {
      "text/plain": [
       "['On Grid',\n",
       " 'Off Grid',\n",
       " 'E Vehicles',\n",
       " 'Energy Efficient & Renewable Energy Products',\n",
       " 'Water Heater',\n",
       " 'battery']"
      ]
     },
     "execution_count": 179,
     "metadata": {},
     "output_type": "execute_result"
    }
   ],
   "source": [
    "s = \"\"\"On Grid\n",
    "Off Grid\n",
    "E Vehicles\n",
    "Energy Efficient & Renewable Energy Products\n",
    "Water Heater\n",
    "battery\"\"\"\n",
    "s.split(\"\\n\")"
   ]
  },
  {
   "cell_type": "code",
   "execution_count": 246,
   "id": "69c72936",
   "metadata": {},
   "outputs": [],
   "source": [
    "prod = ['E Bike',\n",
    " 'E Trance +',\n",
    " 'Gorilla Fan',\n",
    " 'Gorilla Fan Pedestal Fan',\n",
    " 'Gorilla Fan Wall Mounted',\n",
    " 'Off Grid Solar Power Plant',\n",
    " 'On Grid Solar System',\n",
    " 'Super Fan A1',\n",
    " 'Super Fan V1',\n",
    " 'Super Fan X1',\n",
    " 'Water Heater']\n",
    "\n",
    "cat = ['On Grid',\n",
    " 'Off Grid',\n",
    " 'E Vehicles',\n",
    " 'Energy Efficient & Renewable Energy Products',\n",
    " 'Water Heater',\n",
    " 'battery']\n",
    "\n",
    "items = cat + prod + [\"New installation\", \"Buy x\", \"Cost of\"]\n",
    "items = list(set(map(lambda x: x.lower(), items)))"
   ]
  },
  {
   "cell_type": "code",
   "execution_count": 247,
   "id": "837bbdaf",
   "metadata": {},
   "outputs": [
    {
     "data": {
      "text/plain": [
       "'on grid solar system'"
      ]
     },
     "execution_count": 247,
     "metadata": {},
     "output_type": "execute_result"
    }
   ],
   "source": [
    "items[11]"
   ]
  },
  {
   "cell_type": "code",
   "execution_count": 248,
   "id": "2d085403",
   "metadata": {},
   "outputs": [
    {
     "name": "stdout",
     "output_type": "stream",
     "text": [
      "[('fan', 'NN'), ('working', 'VBG')]\n"
     ]
    }
   ],
   "source": [
    "txt = 'fan not working'\n",
    "l = pos_tag(txt.lower())\n",
    "print(l)\n",
    "# nltk.ne_chunk(tg, binary=True)"
   ]
  },
  {
   "cell_type": "code",
   "execution_count": 249,
   "id": "bda6eff8",
   "metadata": {},
   "outputs": [
    {
     "name": "stdout",
     "output_type": "stream",
     "text": [
      "[('battery', 0.0, 0), ('e trance +', 0.0, 1), ('super fan v1', 0.4082482904638631, 2), ('super fan x1', 0.4082482904638631, 3), ('cost of', 0.0, 4), ('new installation', 0.0, 5), ('water heater', 0.0, 6), ('super fan a1', 0.4082482904638631, 7), ('gorilla fan pedestal fan', 0.4082482904638631, 8), ('buy x', 0.0, 9), ('off grid solar power plant', 0.0, 10), ('on grid solar system', 0.0, 11), ('off grid', 0.0, 12), ('energy efficient & renewable energy products', 0.0, 13), ('on grid', 0.0, 14), ('e vehicles', 0.0, 15), ('gorilla fan wall mounted', 0.35355339059327373, 16), ('gorilla fan', 0.5, 17), ('e bike', 0.0, 18)]\n"
     ]
    }
   ],
   "source": [
    "# X = input(\"Enter first string: \").lower()\n",
    "# Y = input(\"Enter second string: \").lower()\n",
    "XL = items\n",
    "Y = txt\n",
    "cos_l = list()\n",
    "for pos, X in enumerate(XL): \n",
    "    cos_l.append((X, cosine(X, Y), pos))\n",
    "print(cos_l)"
   ]
  },
  {
   "cell_type": "code",
   "execution_count": 250,
   "id": "0b0ff8cb",
   "metadata": {},
   "outputs": [],
   "source": [
    "import operator"
   ]
  },
  {
   "cell_type": "code",
   "execution_count": 251,
   "id": "be8d2441",
   "metadata": {},
   "outputs": [
    {
     "data": {
      "text/plain": [
       "[('gorilla fan', 0.5, 17),\n",
       " ('super fan v1', 0.4082482904638631, 2),\n",
       " ('super fan x1', 0.4082482904638631, 3),\n",
       " ('super fan a1', 0.4082482904638631, 7),\n",
       " ('gorilla fan pedestal fan', 0.4082482904638631, 8),\n",
       " ('gorilla fan wall mounted', 0.35355339059327373, 16),\n",
       " ('battery', 0.0, 0),\n",
       " ('e trance +', 0.0, 1),\n",
       " ('cost of', 0.0, 4),\n",
       " ('new installation', 0.0, 5),\n",
       " ('water heater', 0.0, 6),\n",
       " ('buy x', 0.0, 9),\n",
       " ('off grid solar power plant', 0.0, 10),\n",
       " ('on grid solar system', 0.0, 11),\n",
       " ('off grid', 0.0, 12),\n",
       " ('energy efficient & renewable energy products', 0.0, 13),\n",
       " ('on grid', 0.0, 14),\n",
       " ('e vehicles', 0.0, 15),\n",
       " ('e bike', 0.0, 18)]"
      ]
     },
     "execution_count": 251,
     "metadata": {},
     "output_type": "execute_result"
    }
   ],
   "source": [
    "sorted_cos_l = sorted(cos_l, key=operator.itemgetter(1), reverse=True)\n",
    "sorted_cos_l"
   ]
  },
  {
   "cell_type": "code",
   "execution_count": 252,
   "id": "a41c692a",
   "metadata": {
    "scrolled": true
   },
   "outputs": [
    {
     "name": "stdout",
     "output_type": "stream",
     "text": [
      "[('gorilla fan', 0.5, 17), ('super fan v1', 0.4082482904638631, 2), ('super fan x1', 0.4082482904638631, 3), ('super fan a1', 0.4082482904638631, 7), ('gorilla fan pedestal fan', 0.4082482904638631, 8), ('gorilla fan wall mounted', 0.35355339059327373, 16)] 6\n"
     ]
    }
   ],
   "source": [
    "mx = sorted_cos_l[0][1] - 0.25\n",
    "choice = list()\n",
    "for i in sorted_cos_l:\n",
    "    if i[1] >= mx:\n",
    "        choice.append(i)\n",
    "print(choice, len(choice))"
   ]
  },
  {
   "cell_type": "code",
   "execution_count": 277,
   "id": "c410cc40",
   "metadata": {},
   "outputs": [],
   "source": [
    "def product_option(txt):\n",
    "    buy = False\n",
    "    XL = items\n",
    "    Y = txt\n",
    "    cos_l = list()\n",
    "    for pos, X in enumerate(XL): \n",
    "        cos_l.append((X, cosine(X, Y), pos))\n",
    "#     print(cos_l)\n",
    "    sorted_cos_l = sorted(cos_l, key=operator.itemgetter(1), reverse=True)\n",
    "    \n",
    "    mx = sorted_cos_l[0][1] - 0.25\n",
    "    choice = list()\n",
    "    for i in sorted_cos_l:\n",
    "        if (i[0] == \"new installation\" or i[0] == \"buy x\") and i[1] >= 0.5:\n",
    "            buy = True    \n",
    "            continue\n",
    "        if i[1] >= 0.7:\n",
    "            choice.append(i)\n",
    "            break\n",
    "        elif i[1] >= mx:\n",
    "            choice.append(i)\n",
    "#     print(choice, len(choice))\n",
    "    return choice, buy"
   ]
  },
  {
   "cell_type": "code",
   "execution_count": 279,
   "id": "1c71dde6",
   "metadata": {},
   "outputs": [
    {
     "data": {
      "text/plain": [
       "([('gorilla fan', 0.5, 17),\n",
       "  ('super fan v1', 0.4082482904638631, 2),\n",
       "  ('super fan x1', 0.4082482904638631, 3),\n",
       "  ('super fan a1', 0.4082482904638631, 7),\n",
       "  ('gorilla fan pedestal fan', 0.4082482904638631, 8),\n",
       "  ('gorilla fan wall mounted', 0.35355339059327373, 16)],\n",
       " False)"
      ]
     },
     "execution_count": 279,
     "metadata": {},
     "output_type": "execute_result"
    }
   ],
   "source": [
    "product_option(\"fan complaint\")"
   ]
  },
  {
   "cell_type": "code",
   "execution_count": 222,
   "id": "6e25ba0a",
   "metadata": {},
   "outputs": [],
   "source": [
    "# from nltk.stem import WordNetLemmatizer\n",
    "# lemmatizer = WordNetLemmatizer()"
   ]
  },
  {
   "cell_type": "code",
   "execution_count": 223,
   "id": "8306544a",
   "metadata": {},
   "outputs": [],
   "source": [
    "# def lemma(l):\n",
    "#     search_sapce = list()\n",
    "#     for i, tag in l:\n",
    "#         wntag = tag[0].lower()\n",
    "#         wntag = wntag if wntag in ['a', 'r', 'n', 'v'] else None\n",
    "#     #     print(wntag)\n",
    "#         if not wntag:\n",
    "#             inp = i\n",
    "#         else:\n",
    "#             inp = lemmatizer.lemmatize(i, pos=wntag)\n",
    "#         search_sapce.append(inp)\n",
    "#     return search_sapce"
   ]
  },
  {
   "cell_type": "code",
   "execution_count": 224,
   "id": "dd0549c5",
   "metadata": {},
   "outputs": [],
   "source": [
    "# choice_list_output = []\n",
    "# search_sapce = lemma(pos_tag(txt))\n",
    "# for i, val in choice:\n",
    "#     ch = lemma(pos_tag(i))\n",
    "#     choice_list_output.append([x for x in ch if x in search_sapce])\n",
    "# choice_list_output    "
   ]
  },
  {
   "cell_type": "code",
   "execution_count": 225,
   "id": "cbd38db9",
   "metadata": {},
   "outputs": [],
   "source": [
    "GREETING_INPUTS = (\"hello\", \"hi\", \"greetings\", \"sup\", \"what's up\",\"hey\",)\n",
    "END_GREETING_INPUTS = (\"bye\", \"quit\", \"see you\")"
   ]
  },
  {
   "cell_type": "markdown",
   "id": "ad0e90e1",
   "metadata": {},
   "source": [
    "Objective\n",
    "- New service / complaint\n",
    "- Complaint\n",
    "- Description - symptoms\n",
    "- Address - Ask is it same as {} - Semtiment (Yes/No)\n",
    "- Mobile - \"\n",
    "- Location - Would you like to share your location - Senti\n",
    "- Land Mark  - GMap - test\n",
    "- Confirm Complaint/ service - Senti\n"
   ]
  },
  {
   "cell_type": "code",
   "execution_count": 280,
   "id": "cb851810",
   "metadata": {},
   "outputs": [],
   "source": []
  },
  {
   "cell_type": "code",
   "execution_count": 290,
   "id": "1ce85154",
   "metadata": {},
   "outputs": [
    {
     "name": "stdout",
     "output_type": "stream",
     "text": [
      "\n",
      "Can you please provide more description of problem?\n",
      "Not heating\n",
      "{'new_service': False, 'complaint': 'water heater', 'desc': 'Not heating', 'addr': '', 'mob': '', 'loc': '', 'lat': '', 'long': '', 'landmark': '', 'confirm': ''}\n"
     ]
    }
   ],
   "source": [
    "txt = \"heater complaint\"\n",
    "objective = {\n",
    "    \"new_service\": False,\n",
    "    \"complaint\": \"\",\n",
    "    \"desc\": \"\",\n",
    "    \"addr\": \"\",\n",
    "    \"mob\": \"\",\n",
    "    \"loc\": \"\",\n",
    "    \"lat\": \"\",\n",
    "    \"long\": \"\",\n",
    "    \"landmark\": \"\",\n",
    "    \"confirm\": \"\",\n",
    "}\n",
    "\n",
    "if len(objective[\"complaint\"]) == 0:\n",
    "    while True:\n",
    "        print()\n",
    "        if txt in GREETING_INPUTS:\n",
    "            out = \"Hi, How can I help you?\"\n",
    "            print(out)\n",
    "        elif txt in END_GREETING_INPUTS:\n",
    "            out = \"Thank you for using our service\"\n",
    "            print(out)\n",
    "            break\n",
    "        else:\n",
    "            cho, buy = product_option(txt.lower())\n",
    "    #         print((cho, buy))\n",
    "            objective[\"new_service\"] = buy\n",
    "            if len(cho) > 0:\n",
    "                if len(cho) == 1:\n",
    "                    objective[\"complaint\"] = cho[0][0]\n",
    "    #           Get Next obj in next function\n",
    "                    break\n",
    "                elif len(cho) > 1:\n",
    "        #             Get Choice\n",
    "                    if buy == True:\n",
    "                        out = \"Please enter your product\"\n",
    "                    else:\n",
    "                        out = \"Please enter your choice\"\n",
    "                    print(out)\n",
    "                    print('\\n'.join([x[0] for x in cho]))\n",
    "                    txt = input()\n",
    "                    continue\n",
    "            else:\n",
    "                out = \"I couldn't recognize service request\"\n",
    "                print(out)\n",
    "                txt = input()\n",
    "                continue\n",
    "if len(objective[\"desc\"]) == 0:\n",
    "    print(\"Can you please provide more description of problem?\")\n",
    "    txt = input()\n",
    "    score = sentiment_score(txt)\n",
    "    if score[\"neg\"] >= 0.5:\n",
    "        objective[\"desc\"] = \"None\"\n",
    "    else:\n",
    "        objective[\"desc\"] = txt\n",
    "print(objective)"
   ]
  },
  {
   "cell_type": "code",
   "execution_count": 284,
   "id": "89329960",
   "metadata": {},
   "outputs": [
    {
     "data": {
      "text/plain": [
       "{'neg': 1.0, 'neu': 0.0, 'pos': 0.0, 'compound': -0.296}"
      ]
     },
     "execution_count": 284,
     "metadata": {},
     "output_type": "execute_result"
    }
   ],
   "source": [
    "sentiment_score(\"No\")"
   ]
  },
  {
   "cell_type": "code",
   "execution_count": 213,
   "id": "ae3e94ab",
   "metadata": {},
   "outputs": [
    {
     "data": {
      "text/plain": [
       "[('gorilla fan', 0.5, 11),\n",
       " ('super fan a1', 0.4082482904638631, 1),\n",
       " ('super fan x1', 0.4082482904638631, 3),\n",
       " ('gorilla fan pedestal fan', 0.4082482904638631, 4),\n",
       " ('super fan v1', 0.4082482904638631, 9),\n",
       " ('gorilla fan wall mounted', 0.35355339059327373, 14)]"
      ]
     },
     "execution_count": 213,
     "metadata": {},
     "output_type": "execute_result"
    }
   ],
   "source": [
    "product_option(\"fan not working\")"
   ]
  },
  {
   "cell_type": "code",
   "execution_count": null,
   "id": "e44562f9",
   "metadata": {},
   "outputs": [],
   "source": []
  }
 ],
 "metadata": {
  "kernelspec": {
   "display_name": "Python 3",
   "language": "python",
   "name": "python3"
  },
  "language_info": {
   "codemirror_mode": {
    "name": "ipython",
    "version": 3
   },
   "file_extension": ".py",
   "mimetype": "text/x-python",
   "name": "python",
   "nbconvert_exporter": "python",
   "pygments_lexer": "ipython3",
   "version": "3.8.5"
  }
 },
 "nbformat": 4,
 "nbformat_minor": 5
}
